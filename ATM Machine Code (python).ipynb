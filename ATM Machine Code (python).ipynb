{
 "cells": [
  {
   "cell_type": "code",
   "execution_count": 7,
   "metadata": {},
   "outputs": [
    {
     "name": "stdout",
     "output_type": "stream",
     "text": [
      "Enter your 8 digit account number12345678\n",
      "Enter your 4 digit pin number1234\n",
      "Select your option\n",
      "Press 1 for Deposit\n",
      "Press 2 for withdrawal\n",
      "Press 3 for Balance\n",
      "2\n",
      "Enter Amount to withdraw 10000\n",
      "Transaction succesfull\n",
      "Your Remaining Balance is 5000 Rs\n"
     ]
    }
   ],
   "source": [
    "Account_no=int(input(\"Enter your 8 digit account number\"))  # ACCOUNT NO \n",
    "Pin_code=int(input(\"Enter your 4 digit pin number\"))\n",
    "b= 15000\n",
    "if Account_no== 12345678 and Pin_code==1234:\n",
    "    print(\"Select your option\",end='\\n')\n",
    "    print(\"Press 1 for Deposit\",end='\\n')\n",
    "    print(\"Press 2 for withdrawal\",end='\\n')\n",
    "    print(\"Press 3 for Balance\",end='\\n')\n",
    "    choice=int(input(\"\"))\n",
    "    if choice==3:\n",
    "        print(f\"Your balance is {b}Rs\")\n",
    "    if choice==1:\n",
    "        deposit=int(input(\"Enter your amount \"))\n",
    "        print(\"Transaction Succesful\")\n",
    "        if deposit < 500:\n",
    "            print(\"Kindly increase your amount\")\n",
    "            print(\"Standard limit =500\")\n",
    "        else:\n",
    "            b=b+deposit\n",
    "            print(f\"Your Remaining balance is {b} Rs \",end='\\n')\n",
    "    if choice==2:\n",
    "        withdraw=int(input(\"Enter Amount to withdraw \"))\n",
    "        if withdraw < 500:\n",
    "            print(\"Kindly increase your amount\")\n",
    "            print(\"Standard limit =500\")\n",
    "            print(\"Insufficient balance\")\n",
    "        else:\n",
    "            b=b-withdraw\n",
    "            print(\"Transaction succesfull\")\n",
    "            print(f\"Your Remaining Balance is {b} Rs\") \n",
    "    a = b\n",
    "else:\n",
    "    print(\"Incorrect Account No or Pin code\")\n",
    "    print(\"Please check and try again\")\n",
    "    print(\"Thank You!\")"
   ]
  },
  {
   "cell_type": "code",
   "execution_count": null,
   "metadata": {},
   "outputs": [],
   "source": []
  },
  {
   "cell_type": "code",
   "execution_count": null,
   "metadata": {},
   "outputs": [],
   "source": []
  }
 ],
 "metadata": {
  "kernelspec": {
   "display_name": "Python 3",
   "language": "python",
   "name": "python3"
  },
  "language_info": {
   "codemirror_mode": {
    "name": "ipython",
    "version": 3
   },
   "file_extension": ".py",
   "mimetype": "text/x-python",
   "name": "python",
   "nbconvert_exporter": "python",
   "pygments_lexer": "ipython3",
   "version": "3.7.3"
  }
 },
 "nbformat": 4,
 "nbformat_minor": 2
}
